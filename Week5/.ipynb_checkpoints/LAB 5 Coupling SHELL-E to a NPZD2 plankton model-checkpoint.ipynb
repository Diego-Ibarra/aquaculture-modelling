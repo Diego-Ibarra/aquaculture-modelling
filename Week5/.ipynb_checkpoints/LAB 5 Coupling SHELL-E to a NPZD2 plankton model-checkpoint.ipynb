{
 "cells": [
  {
   "cell_type": "code",
   "execution_count": null,
   "metadata": {},
   "outputs": [],
   "source": [
    "%matplotlib inline\n",
    "import warnings\n",
    "warnings.filterwarnings('ignore')"
   ]
  },
  {
   "cell_type": "markdown",
   "metadata": {},
   "source": [
    "Ignore code above. It is just for formatting. Do not alter!\n",
    "<hr>"
   ]
  },
  {
   "cell_type": "markdown",
   "metadata": {},
   "source": [
    "# LAB 5 - Coupling SHELL-E to a NPZD2 plankton model\n",
    "\n",
    "MARI4600/BIO5600: Ecosystem Modelling for Aquaculture (Dalhousie University)\n",
    "\n",
    "----------------------------------------\n",
    "\n",
    "**Rendered link:** http://nbviewer.jupyter.org/urls/github.com/Diego-Ibarra/aquaculture-modelling/blob/master/Week5/LAB%205%20Coupling%20SHELL-E%20to%20a%20NPZD2%20plankton%20model.ipynb\n",
    "\n",
    "--------------------------------------\n",
    "\n"
   ]
  },
  {
   "cell_type": "markdown",
   "metadata": {},
   "source": [
    "### Setup of workspace\n",
    "\n",
    "<span class=\"important\"></span> Make sure all required files are in the working directory:\n",
    "\n",
    "* Create a **folder** on the \"Desktop\" and name it <span class='file'>Lab</span>\n",
    "* From Brightspace, download the following files into your new folder <span class='file'>Desktop\\Lab</span>:\n",
    "   * <span class='file'>model_NPZD2.py</span>\n",
    "   * <span class='file'>model_SHELLE.py</span> <span class=\"important\"></span> Brightspace automatically renamed the file as <span class='file'>model_SHELLE1.py</span>. After you downloaded the file, change the name back to <span class='file'>model_SHELLE.py</span>\n",
    "* In Spyder, change the \"working directory\" to: <span class='file'>Desktop\\Lab</span>. Note that to change the \"working directory\", click on \"folder icon\" on top-right corner.\n",
    "\n",
    "----------------------------------\n"
   ]
  },
  {
   "cell_type": "markdown",
   "metadata": {},
   "source": [
    "### Models BEFORE coupling\n",
    "\n",
    "Lets play a bit with the SHELLE and NPZD2 models (before we couple them)....\n",
    "\n",
    "Create a new file, name it <span class='file'>Lab5.py</span>, and save it in <span class='file'>Desktop\\Lab</span>\n",
    "\n",
    "First, lets play with SHELLE. Conceptually, this model can be though as growing ONE mussel inside a container with constant water characteristics (temp, Phy, Zoo, etc... are constant).\n",
    "\n",
    "Then copy-paste the code below into <span class='file'>Lab5.py</span> and click <span class='runcell'></span>:\n",
    "\n"
   ]
  },
  {
   "cell_type": "code",
   "execution_count": null,
   "metadata": {},
   "outputs": [],
   "source": [
    "#%% Run standard SHELLE\n",
    "import model_SHELLE as model\n",
    "\n",
    "days, dt, par, InitCond = model.load_defaults()\n",
    "output = model.run(days,dt,InitCond,par)\n",
    "model.plot(output)"
   ]
  },
  {
   "cell_type": "markdown",
   "metadata": {},
   "source": [
    "<div class=\"Q\"><br>\n",
    "\n",
    "Looking at the previous graph, how many times did our mussel spawned within the 3 year simulation?\n",
    "\n",
    "<br><br><div class=\"qhelp\"></div></div>"
   ]
  },
  {
   "cell_type": "markdown",
   "metadata": {},
   "source": [
    "<div class=\"Q\"><br>\n",
    "\n",
    "Looking at the previous graph, did the mussel <b>Soma</b> ever decreased, or was it growing all the time?\n",
    "\n",
    "<br><br><div class=\"qhelp\"></div></div>"
   ]
  },
  {
   "cell_type": "markdown",
   "metadata": {},
   "source": [
    "<div class=\"Q\"><br>\n",
    "\n",
    "Looking at the previous graph, what was the maximum <b>Soma</b> in the 3-year simulation?\n",
    "\n",
    "<br><br><div class=\"qhelp\"></div></div>"
   ]
  },
  {
   "cell_type": "markdown",
   "metadata": {},
   "source": [
    "Now lets run the NPZD2 model...\n",
    "\n",
    "Conceptually, this model can be though as growing Phytoplankton and Zooplankton in a 1 $m^3$ container.\n",
    "\n",
    "Then copy-paste the code below into <span class='file'>Lab5.py</span> and click <span class='runcell'></span>:"
   ]
  },
  {
   "cell_type": "code",
   "execution_count": null,
   "metadata": {},
   "outputs": [],
   "source": [
    "#%% Run standard NPZD2\n",
    "import model_NPZD2 as model\n",
    "\n",
    "days, dt, par, InitCond = model.load_defaults()\n",
    "output = model.run(days,dt,InitCond,par)\n",
    "model.plot(output)"
   ]
  },
  {
   "cell_type": "markdown",
   "metadata": {},
   "source": [
    "<div class=\"Q\"><br>\n",
    "\n",
    "Take a look at the previous graph (upper panel), what was the <b>maximum</b> Phytoplankton Growth Rate (<b>Mu</b>)?\n",
    "\n",
    "<br><br><div class=\"qhelp\"></div></div>"
   ]
  },
  {
   "cell_type": "markdown",
   "metadata": {},
   "source": [
    "<div class=\"Q\"><br>\n",
    "\n",
    "What was the Phytoplankton Growth Rate (<b>Mu</b>) around 0.75 years (i.e. middle of winter)?\n",
    "\n",
    "<br><br><div class=\"qhelp\"></div></div>"
   ]
  },
  {
   "cell_type": "markdown",
   "metadata": {},
   "source": [
    "<div class=\"Q\"><br>\n",
    "\n",
    "What was limiting Phytoplankton Growth Rate (<b>Mu</b>) around 0.75 years (i.e. middle of winter)? ...or in other words, what caused the decrease in <b>Mu</b> around 0.75 years (i.e. middle of winter)?\n",
    "\n",
    "<br><br><div class=\"qhelp\"></div></div>"
   ]
  },
  {
   "cell_type": "markdown",
   "metadata": {},
   "source": [
    "<div class=\"Q\"><br>\n",
    "\n",
    "What was limiting Phytoplankton Growth Rate (<b>Mu</b>) around 1.25 years (i.e. middle of summer)? ...or in other words, what caused the decrease in <b>Mu</b> around 1.25 years (i.e. middle of summer)?\n",
    "\n",
    "<br><br><div class=\"qhelp\"></div></div>"
   ]
  },
  {
   "cell_type": "markdown",
   "metadata": {},
   "source": [
    "<div class=\"Q\"><br>\n",
    "\n",
    "Take a look at the previous graph (lower panel), what was the <b>maximum</b> Phytoplankton biomass (<b>Phy</b>)?\n",
    "\n",
    "<br><br><div class=\"qhelp\"></div></div>"
   ]
  },
  {
   "cell_type": "markdown",
   "metadata": {},
   "source": [
    "-------------------------\n",
    "\n",
    "# Coupling\n",
    "\n",
    "\"Coupling\" is where join two (or more) models together. Here we will merge the NPZD2 model with the SHELLE model. The way we will do this is shown in the diagram below. Note that there are two steps. In the first step, we copy-paste the code from one model into the other model. Note that the copy-pasting results in a interspersed copy of the two codes. After we finished the copy-pasting, the two models are \"one-way coupled\", which means that the outputs of model 1 affect model 2, but the output of model 2 does not affect model 1. In the second step, we write new code to implement a feedback (i.e. model 2 affecting model 1), effectively achieving a \"two-way coupling\" of the 2 models.  "
   ]
  },
  {
   "cell_type": "markdown",
   "metadata": {},
   "source": [
    "<img src=\"./diagram.png\" width=\"500px\">"
   ]
  },
  {
   "cell_type": "markdown",
   "metadata": {},
   "source": [
    "--------------\n",
    "\n",
    "Create a new file by \"Saving-as\" <span class='file'>model_NPZD2.py</span> with a new name... lets call the new file <span class='file'>model_NPZD2_SHELLE.py</span>. Make sure you saved it in your working directory <span class='file'>Desktop/Lab</span>\n",
    "\n",
    "From now on, we are going to copy-paste code from <span class='file'>model_SHELLE.py</span> into the new <span class='file'>model_NPZD2_SHELLE.py</span>, which currently has a copy of the NPZD2 model. By the end, we will have the code of both model coupled into one file (<span class='file'>model_NPZD2_SHELLE.py</span>).\n",
    "\n",
    "Conceptually, the <span class='file'>model_NPZD2_SHELLE.py</span> model can be though as growing ONE mussel inside a 1 $m^3$ container, where Phytoplankton, Zooplankton, Nutrients and Detritus interact with the ONE mussel (temp is constant).\n",
    "\n",
    "------------------------------\n",
    "\n",
    "### Parameters\n",
    "\n",
    "Copy-paste `parameters` from <span class='file'>model_SHELLE.py</span> to <span class='file'>model_NPZD2_SHELLE.py</span> Copy-paste the \"SHELLE\" parameters just below the \"NPZD2\" parameters. <span class='important'></span> Copy only the parameters and **DO NOT COPY** `par = {}`, if you do you will recreate the dictionary `par` effectively deleting everything that was already inside it. There should be only **ONE** `par = {}` at the top of the section.\n",
    "\n",
    "The new code should look like this: "
   ]
  },
  {
   "cell_type": "code",
   "execution_count": null,
   "metadata": {},
   "outputs": [],
   "source": [
    "    # Parameters\n",
    "    par = {}\n",
    "    # NPZD2\n",
    "    par['mu0']   = 0.69  \n",
    "    par['kNO3']  = 0.5    \n",
    "    par['kNH4']  = 0.5  \n",
    "    par['alpha'] = 0.125  \n",
    "    par['gmax']  = 0.6\n",
    "    par['kP']    = 0.44\n",
    "    par['mP']    = 0.15    \n",
    "    par['tau']   = 0.005 \n",
    "    par['thetaMax'] = 0.053\n",
    "    par['beta']  = 0.75 \n",
    "    par['lBM']   = 0.1    \n",
    "    par['lE']    = 0.1\n",
    "    par['mZ']    = 0.25\n",
    "    par['rSD']   = 0.3\n",
    "    par['rLD']   = 0.1 \n",
    "    par['nmax']  = 0.05\n",
    "    par['kI']    = 0.1\n",
    "    par['I0']    = 0.0095\n",
    "    # SHELLE\n",
    "    par['AE_P']    = 0.9  \n",
    "    par['AE_D']    = 0.2    \n",
    "    par['AE_Z']    = 0.3  \n",
    "    par['Bpub']    = 0.43  \n",
    "    par['Fmax_ref'] = 0.025\n",
    "    par['GT']       = 0.44\n",
    "    par['KTempH']   = 0.1    \n",
    "    par['KTempL']   = 0.5 \n",
    "    par['KSaltL']   = 0.25\n",
    "    par['KOxyL']    = 0.02 \n",
    "    par['KFood']    = 1.    \n",
    "    par['KRE']   = 0.86\n",
    "    par['OxyL']  = 17.5\n",
    "    par['Rm']    = 0.002\n",
    "    par['SaltL'] = 10.\n",
    "    par['TempH'] = 25.\n",
    "    par['TempL'] = -4.\n",
    "    par['beta']  = 0.12\n",
    "    par['epsilonP'] = 1.\n",
    "    par['epsilonD'] = 0.5\n",
    "    par['epsilonZ'] = 0.3"
   ]
  },
  {
   "cell_type": "markdown",
   "metadata": {},
   "source": [
    "\n",
    "--------------------\n",
    "\n",
    "### Initial Conditions\n",
    "\n",
    "Copy-paste `InitCond` from <span class='file'>model_SHELLE.py</span> to <span class='file'>model_NPZD2_SHELLE.py</span>. Copy-paste the \"SHELLE\" InitCond just below the \"NPZD2\" InitCond.\n",
    "\n",
    "Note that now there are duplicate InitCond... do not copy the SHELLE InitCond that are already in NPZD2 (i.e. Temp, Phy, Zoo, SDet)\n",
    "\n",
    "<span class='important'></span> Copy only the InitCond and **DO NOT COPY** `InitCond = {}`, if you do, you will recreate the dictionary `InitCond` effectively deleting everything that was already inside it. There should be only **ONE** `InitCond = {}` at the top of the section.\n",
    "\n",
    "The new code should look like this:"
   ]
  },
  {
   "cell_type": "code",
   "execution_count": null,
   "metadata": {},
   "outputs": [],
   "source": [
    "    # Initial conditions\n",
    "    #NDPZD2\n",
    "    InitCond = {}\n",
    "    InitCond['Phy']  = 0.2\n",
    "    InitCond['Zoo']  = 0.1\n",
    "    InitCond['SDet'] = 1. \n",
    "    InitCond['LDet'] = 1.\n",
    "    InitCond['NH4']  = 0.1\n",
    "    InitCond['NO3']  = 7.\n",
    "    InitCond['Temp'] = 6.\n",
    "    # SHELLE\n",
    "    InitCond['Soma'] = 0.01\n",
    "    InitCond['Gonad'] = 0.\n",
    "    InitCond['Salt'] = 30. #Salinity\n",
    "    InitCond['Oxy'] = 30. #Oxygen"
   ]
  },
  {
   "cell_type": "markdown",
   "metadata": {},
   "source": [
    "-----------------\n",
    "### Creation of Zero vectors\n",
    "\n",
    "Copy-paste `zero vectors` from <span class='file'>model_SHELLE.py</span> to <span class='file'>model_NPZD2_SHELLE.py</span>. Copy-paste the \"SHELLE\" zero-vectors just below the \"NPZD2\" zero-vectors.\n",
    "\n",
    "Same as above, note that there may be duplicate zero-vectors... do not copy the SHELLE zero-vectors that are already in NPZD2 (i.e. Temp, Phy, Zoo, SDet)\n",
    "\n",
    "The new code should look like this: "
   ]
  },
  {
   "cell_type": "code",
   "execution_count": null,
   "metadata": {},
   "outputs": [],
   "source": [
    "    # Create zero-vectors\n",
    "    # NPZD2\n",
    "    Phy = np.zeros((NoSTEPS,),float) # makes a vector array of zeros (size: NoSTEPS rows by ONE column)\n",
    "    Zoo = np.zeros((NoSTEPS,),float) # same as above\n",
    "    SDet = np.zeros((NoSTEPS,),float) # Biomass - same as above \n",
    "    LDet = np.zeros((NoSTEPS,),float) # same as above\n",
    "    NH4 = np.zeros((NoSTEPS,),float) # same as above\n",
    "    NO3 = np.zeros((NoSTEPS,),float) # same as above\n",
    "    I  = np.zeros((NoSTEPS,),float) # same as above\n",
    "    \n",
    "    mu = np.zeros((NoSTEPS,),float) # same as above\n",
    "    f_I = np.zeros((NoSTEPS,),float) # same as above\n",
    "    L_NO3 = np.zeros((NoSTEPS,),float) # same as above\n",
    "    L_NH4 = np.zeros((NoSTEPS,),float) # same as above\n",
    "    TotN = np.zeros((NoSTEPS,),float) # same as above\n",
    "\n",
    "    # SHELLE\n",
    "    Soma = np.zeros((NoSTEPS,),float) # makes a vector array of zeros (size: NoSTEPS rows by ONE column)\n",
    "    Gonad = np.zeros((NoSTEPS,),float) # same as above\n",
    "    B = np.zeros((NoSTEPS,),float) # Biomass - same as above \n",
    "    L_Temp = np.zeros((NoSTEPS,),float) # same as above\n",
    "    L_Salt = np.zeros((NoSTEPS,),float) # same as above\n",
    "    L_Oxy = np.zeros((NoSTEPS,),float) # same as above\n",
    "    L_Food = np.zeros((NoSTEPS,),float) # same as above\n",
    "    F = np.zeros((NoSTEPS,),float) # same as above\n",
    "    A = np.zeros((NoSTEPS,),float) # same as above\n",
    "    R = np.zeros((NoSTEPS,),float) # same as above\n",
    "    RE = np.zeros((NoSTEPS,),float) # same as above\n",
    "    Spawning = np.zeros((NoSTEPS,),float) # same as above  "
   ]
  },
  {
   "cell_type": "markdown",
   "metadata": {},
   "source": [
    "--------------------\n",
    "\n",
    "### Initializing with initial conditions\n",
    "\n",
    "Copy-paste the section `Initializing with initial conditions` from <span class='file'>model_SHELLE.py</span> to <span class='file'>model_NPZD2_SHELLE.py</span>.\n",
    "\n",
    "Copy-paste the \"SHELLE\" section just below the one for \"NPZD2\".\n",
    "\n",
    "Same as above, note that there may be duplicate initialization... do not copy the SHELLE zero-vectors that are already in NPZD2 (i.e. Temp)\n",
    "\n",
    "Additionally, in SHELLE we used to create time-series of variables that now will be calculated by the NPZD2 model. Thus, lines like `Phy = np.ones((NoSTEPS,),float) * InitCond['Phy']` are redundant and should not be copied.\n",
    "\n",
    "The new code should look like this:"
   ]
  },
  {
   "cell_type": "code",
   "execution_count": null,
   "metadata": {},
   "outputs": [],
   "source": [
    "    # Initializing with initial conditions\n",
    "    # NPZD2\n",
    "    Phy[0] = InitCond['Phy']\n",
    "    Zoo[0] = InitCond['Zoo']\n",
    "    SDet[0] = InitCond['SDet']\n",
    "    LDet[0] = InitCond['LDet']\n",
    "    NH4[0] = InitCond['NH4']\n",
    "    NO3[0] = InitCond['NO3']\n",
    "\n",
    "    Temp = np.ones((NoSTEPS,),float) * InitCond['Temp'] #Temperature \n",
    "    \n",
    "    # SHELLE\n",
    "    Soma[0] = InitCond['Soma']\n",
    "    Gonad[0] = InitCond['Soma']\n",
    "    B[0] = InitCond['Soma'] + InitCond['Gonad']\n",
    "    Spawning[0] = 0.\n",
    "    Salt = np.ones((NoSTEPS,),float) * InitCond['Salt']#Salinity\n",
    "    Oxy = np.ones((NoSTEPS,),float) * InitCond['Oxy'] #Oxygen"
   ]
  },
  {
   "cell_type": "markdown",
   "metadata": {},
   "source": [
    "-------------------------------\n",
    "### Update and step\n",
    "\n",
    "Copy-paste `Update and step` from <span class='file'>model_SHELLE.py</span> to <span class='file'>model_NPZD2_SHELLE.py</span>.\n",
    "\n",
    "Copy-paste the \"SHELLE\" \"Update and step\" just below the one for \"NPZD2\".\n",
    "\n",
    "The new code should look like this:"
   ]
  },
  {
   "cell_type": "code",
   "execution_count": null,
   "metadata": {},
   "outputs": [],
   "source": [
    "        # Update and step ----------------------------------------------------\n",
    "        # NPZD2\n",
    "        Phy[t+1]  = Phy[t]  + (dPhydt * dt)\n",
    "        Zoo[t+1]  = Zoo[t]  + (dZoodt * dt)\n",
    "        SDet[t+1] = SDet[t] + (dSDetdt * dt)\n",
    "        LDet[t+1] = LDet[t] + (dLDetdt * dt)\n",
    "        NH4[t+1]  = NH4[t]  + (dNH4dt * dt)\n",
    "        NO3[t+1]  = NO3[t]  + (dNO3dt * dt)\n",
    "        if NO3[t+1] <= 0.0001:\n",
    "            offset = NO3[t+1]\n",
    "            NH4[t+1] = NH4[t+1] + offset\n",
    "            NO3[t+1] = NO3[t+1] - offset\n",
    "        \n",
    "        # SHELLE\n",
    "        Soma[t+1] = Soma[t] + (dSomadt * dt)\n",
    "        Gonad[t+1] = Gonad[t] + (dGonaddt * dt)  - Spawning[t]\n",
    "        B[t+1] = Soma[t+1] + Gonad[t+1]"
   ]
  },
  {
   "cell_type": "markdown",
   "metadata": {},
   "source": [
    "---------------------------\n",
    "\n",
    "### MAIN MODEL LOOP\n",
    "\n",
    "\n",
    "Copy-paste `MAIN MODEL LOOP` from <span class='file'>model_SHELLE.py</span> to <span class='file'>model_NPZD2_SHELLE.py</span>.\n",
    "\n",
    "Copy-paste the \"SHELLE\" MAIN MODEL LOOP just below the one for \"NPZD2\"\n",
    "\n",
    "The new code should look like this:"
   ]
  },
  {
   "cell_type": "code",
   "execution_count": null,
   "metadata": {},
   "outputs": [],
   "source": [
    "    # *****************************************************************************\n",
    "    # MAIN MODEL LOOP *************************************************************\n",
    "    for t in range(0,NoSTEPS-1):\n",
    "        # NPZD2\n",
    "        muMax = par['mu0'] * (1.066 ** Temp[t]) # text\n",
    "        \n",
    "        f_I[t] = (par['alpha']*I[t])/(np.sqrt(muMax**2+((par['alpha']**2)*(I[t]**2)))) #Eq5\n",
    "        \n",
    "        L_NO3[t] = (NO3[t]/(par['kNO3']+NO3[t])) * (1/(1+(NH4[t]/par['kNH4']))) #Eq3\n",
    "        \n",
    "        L_NH4[t] = NH4[t]/(par['kNH4']+NH4[t]) # Eq 4\n",
    "    \n",
    "        mu[t] =muMax * f_I[t] * (L_NO3[t] + L_NH4[t]) # Eq2\n",
    "    \n",
    "        g = par['gmax'] * (Phy[t]**2/(par['kP']+(Phy[t]**2)))\n",
    "        \n",
    "        n = par['nmax'] * (1 - max(0,(I[t]-par['I0'])/(par['kI']+I[t]-par['I0'])))\n",
    "    \n",
    "        dPhydt = (mu[t] * Phy[t]) - \\\n",
    "                 (g  * Zoo[t]) - \\\n",
    "                 (par['mP'] * Phy[t]) - \\\n",
    "                 (par['tau']*(SDet[t]+Phy[t])*Phy[t]) # Eq1\n",
    "                 \n",
    "        dZoodt = (g * par['beta'] * Zoo[t]) - \\\n",
    "                 (par['lBM']*Zoo[t]) - \\\n",
    "                 (par['lE']*((Phy[t]**2)/(par['kP']+(Phy[t]**2)))*par['beta']*Zoo[t]) - \\\n",
    "                 (par['mZ']*(Zoo[t]**2))#Eq10\n",
    "                 \n",
    "        dSDetdt = (g * (1-par['beta']) * Zoo[t]) + \\\n",
    "                  (par['mZ']*(Zoo[t]**2)) + \\\n",
    "                  (par['mP'] * Phy[t]) - \\\n",
    "                  (par['tau']*(SDet[t]+Phy[t])*SDet[t]) - \\\n",
    "                  (par['rSD']*SDet[t])\n",
    "                  \n",
    "        dLDetdt = (par['tau']*((SDet[t]+Phy[t])**2)) - \\\n",
    "                  (par['rLD']*LDet[t])\n",
    "                  \n",
    "        dNO3dt = -(muMax * f_I[t] * L_NO3[t] * Phy[t]) + \\\n",
    "                  (n * NH4[t])\n",
    "                 \n",
    "        dNH4dt = -(muMax * f_I[t] * L_NH4[t] * Phy[t]) - \\\n",
    "                  (n * NH4[t]) + \\\n",
    "                  (par['lBM'] * Zoo[t]) + \\\n",
    "                  (par['lE']*((Phy[t]**2)/(par['kP']+(Phy[t]**2)))*par['beta']*Zoo[t]) + \\\n",
    "                  (par['rSD']*SDet[t]) + \\\n",
    "                  (par['rLD']*LDet[t])\n",
    "                  \n",
    "        # SHELLE\n",
    "        # Calculate Temperature Limitation\n",
    "        L_Temp[t] = min(max(0.,1.-np.exp(-par['KTempL']*(Temp[t]-par['TempL']))), \\\n",
    "                     max(0.,1.+((1.-np.exp(par['KTempH']*Temp[t]))/(np.exp(par['KTempH']*par['TempH'])-1.))))\n",
    "        \n",
    "        # Calculate Salinity Limitation\n",
    "        L_Salt[t] = max(0.,1.-np.exp(-par['KSaltL']*(Salt[t]-par['SaltL'])))\n",
    "        \n",
    "        # Calculate Oxygen Limitation\n",
    "        L_Oxy[t] = max(0.,1.-np.exp(-par['KOxyL']*(Oxy[t]-par['OxyL'])))\n",
    "        \n",
    "        # Calculate Oxygen Limitation\n",
    "        L_Food[t] = (Phy[t]+Zoo[t]+SDet[t])/(par['KFood']+Phy[t]+Zoo[t]+SDet[t])\n",
    "        \n",
    "        # Calculate Filtration rate\n",
    "        Fmax  = par['Fmax_ref']*(B[t]**(2./3.))\n",
    "        \n",
    "        F[t] = Fmax * L_Temp[t] * L_Salt[t] * L_Oxy[t] * L_Food[t]\n",
    "        \n",
    "        A[t] = F[t] * ((par['epsilonP']*par['AE_P']*Phy[t])+ \\\n",
    "                       (par['epsilonZ']*par['AE_Z']*Zoo[t])+ \\\n",
    "                       (par['epsilonD']*par['AE_D']*SDet[t]))\n",
    "        \n",
    "        R[t] = (par['Rm']*B[t]) + (par['beta']*A[t])\n",
    "        \n",
    "        RE[t] = max(0., (B[t]-par['Bpub'])/(par['KRE'] + B[t] - (2.*par['Bpub'])))\n",
    "        \n",
    "        # Spawning\n",
    "        if Gonad[t]/B[t] < par['GT']:\n",
    "            Spawning[t] = 0.\n",
    "            dGonaddt = (A[t]-R[t]) * RE[t]\n",
    "            dSomadt =  (A[t]-R[t]) * (1.-RE[t])\n",
    "        elif Gonad[t]/B[t] >= par['GT']:         \n",
    "            Spawning[t] = Gonad[t]\n",
    "            dGonaddt = 0.\n",
    "            dSomadt = A[t]-R[t]\n",
    "        else:\n",
    "            dGonaddt = 0.\n",
    "            dSomadt = 0.   "
   ]
  },
  {
   "cell_type": "markdown",
   "metadata": {},
   "source": [
    "------------------\n",
    "\n",
    "### Pack output into dictionary\n",
    "\n",
    "Copy-paste section `Pack output into dictionary` from <span class='file'>model_SHELLE.py</span> to <span class='file'>model_NPZD2_SHELLE.py</span>.\n",
    "\n",
    "Copy-paste the \"SHELLE\" section just below the one for \"NPZD2\". Note that they are duplicates, so don't copy the duplicates (i.e. time, Phy, SDet, etc.).\n",
    "\n",
    "<span class='important'></span> **DO NOT COPY** `output = {}`, if you do, you will recreate the dictionary `output` effectively deleting everything that was already inside it. There should be only **ONE** `output = {}` at the top of the section.\n",
    "\n",
    "The new code should look like this:"
   ]
  },
  {
   "cell_type": "code",
   "execution_count": null,
   "metadata": {},
   "outputs": [],
   "source": [
    "    # Pack output into dictionary\n",
    "    output = {}\n",
    "    output['time'] = time\n",
    "    # NPZD2\n",
    "    output['Phy'] = Phy\n",
    "    output['Zoo'] = Zoo\n",
    "    output['SDet'] = SDet\n",
    "    output['LDet'] = LDet\n",
    "    output['NH4'] = NH4\n",
    "    output['NO3'] = NO3\n",
    "    output['mu'] = mu\n",
    "    output['f_I'] = f_I\n",
    "    output['L_NO3'] = L_NO3\n",
    "    output['L_NH4'] = L_NH4\n",
    "    output['TotN'] = TotN\n",
    "    #SHELLE\n",
    "    output['Soma'] = Soma\n",
    "    output['Gonad'] = Gonad\n",
    "    output['B'] = B\n",
    "    output['Spawning'] = Spawning\n",
    "    output['Temp'] = Temp\n",
    "    output['Salt'] = Salt"
   ]
  },
  {
   "cell_type": "markdown",
   "metadata": {},
   "source": [
    "Update plot by adding to the plotting code for `ax2`:\n",
    "\n",
    "```\n",
    "ax2.plot(output['time']/365,output['B'],'r.')\n",
    "\n",
    "```\n",
    "\n",
    "Also, add `B` to the list labels in `plt.legend(['Phy','Zoo','SDet','LDet','NH4','NO3','TotN'])`\n",
    "\n",
    "The new code should look like this:"
   ]
  },
  {
   "cell_type": "code",
   "execution_count": null,
   "metadata": {},
   "outputs": [],
   "source": [
    "    # Plotting\n",
    "    fig, (ax, ax2) = plt.subplots(2,1,figsize=(15, 8))\n",
    "\n",
    "    ax.plot(output['time']/365,output['f_I'],'r-')\n",
    "    ax.plot(output['time']/365,output['mu'],'g-')\n",
    "    ax.plot(output['time']/365,output['L_NO3'],'b-')\n",
    "    ax.plot(output['time']/365,output['L_NH4'],'k-')\n",
    "    ax.set_xlabel('Time (years)')\n",
    "    ax.set_ylabel('Limitations (dimensionless)')\n",
    "    ax.set_title('Fennel et al 2006 Model')\n",
    "    ax.legend(['f_I','Mu','L_NO3','L_NH4'])\n",
    "    \n",
    "    ax2.plot(output['time']/365,output['Phy'],'g-')\n",
    "    ax2.plot(output['time']/365,output['Zoo'],'r-')\n",
    "    ax2.plot(output['time']/365,output['SDet'],'k-')\n",
    "    ax2.plot(output['time']/365,output['LDet'],'k-.')\n",
    "    ax2.plot(output['time']/365,output['NH4'],'m-')\n",
    "    ax2.plot(output['time']/365,output['NO3'],'c-')\n",
    "    ax2.plot(output['time']/365,output['TotN'],'y-')\n",
    "    ax2.plot(output['time']/365,output['B'],'r.')  # <<<<<<<<<<<<<<<<<<<<<<<<< THIS IS NEW <<<<<<<<<<<<<<<<<\n",
    "    ax2.set_xlabel('Time (years)')\n",
    "    ax2.set_ylabel('Nitrogen (mmol N m$^{-3}$)')\n",
    "    plt.legend(['Phy','Zoo','SDet','LDet','NH4','NO3','TotN','B']) # <<<<<<<<< THIS CHANGED <<<<<<<<<<<<<<<<\n",
    "    plt.show()"
   ]
  },
  {
   "cell_type": "markdown",
   "metadata": {},
   "source": [
    "<span class=\"run\"></span> the model <span class='file'>model_NPZD2_SHELLE.py</span> so that you can see a plot.\n",
    "\n",
    "<img src=\"./1.png\">\n"
   ]
  },
  {
   "cell_type": "markdown",
   "metadata": {},
   "source": [
    "<div class=\"Q\"><br>\n",
    "\n",
    "Do you think <b>Total Nitrogen</b> is conserved throughout the simulation?\n",
    "\n",
    "<br><br><div class=\"qhelp\"></div></div>"
   ]
  },
  {
   "cell_type": "markdown",
   "metadata": {},
   "source": [
    "<div class=\"Q\"><br>\n",
    "\n",
    "<b>...are you sure?</b>\n",
    "<br><br>\n",
    "Hint: This question refers to your answer in the previous question\n",
    "\n",
    "<br><br><div class=\"qhelp\"></div></div>"
   ]
  },
  {
   "cell_type": "markdown",
   "metadata": {},
   "source": [
    "As a rule of thumb, if your model seems to works \"just fine\" on the **1st try**, there is probably something wrong. Take a few minutes and see if you can find what is wrong with `TotNit`.\n",
    "\n",
    "<br>\n",
    "<br>\n",
    "<br>\n",
    "...\n",
    "<br>\n",
    "<br>\n",
    "<br>\n",
    "<br>\n",
    "<br>\n",
    "\n",
    "The code that calculates `TotNit` is no longer correct, because `B` is not accounted for in the Total Nitrogen calculation. Even though the graph shows `TotNit` constant over the simulation, we can't really assess mass balance until we include ALL the nitrogen sources in our calculation. \n",
    "\n",
    "------------------\n",
    "\n",
    "### Total nitrogen\n",
    "\n",
    "Add `+ B[t+1]` to the section `TotN[t+1] = Phy[t+1] + Zoo[t+1] + SDet[t+1] + LDet[t+1] + NH4[t+1] + NO3[t+1]` in <span class='file'>model_NPZD2_SHELLE.py</span>.\n",
    "\n",
    "The new code should look like this:"
   ]
  },
  {
   "cell_type": "code",
   "execution_count": null,
   "metadata": {},
   "outputs": [],
   "source": [
    "        # Estimate Total Nitrogen\n",
    "        TotN[t+1] = Phy[t+1] + Zoo[t+1] + SDet[t+1] + LDet[t+1] + NH4[t+1] + NO3[t+1] + B[t+1]"
   ]
  },
  {
   "cell_type": "markdown",
   "metadata": {},
   "source": [
    "<span class=\"run\"></span> the model <span class='file'>model_NPZD2_SHELLE.py</span> to do the plot again.\n",
    "\n",
    "<img src=\"./2.png\">"
   ]
  },
  {
   "cell_type": "markdown",
   "metadata": {},
   "source": [
    "<span class=\"important\"></span> If you got the previous 2 questions wrong, make sure you go back and change your answer.  "
   ]
  },
  {
   "cell_type": "markdown",
   "metadata": {},
   "source": [
    "<div class=\"Q\"><br>\n",
    "\n",
    "Lets try it again (bonus question), do you think <b>Total Nitrogen</b> is conserved throughout the simulation?\n",
    "\n",
    "<br><br><div class=\"qhelp\"></div></div>"
   ]
  },
  {
   "cell_type": "markdown",
   "metadata": {},
   "source": [
    "<div class=\"Q\"><br>\n",
    "\n",
    "Why do you think <b>TotNit</b> increases during the simulation?\n",
    "\n",
    "<br><br><div class=\"qhelp\"></div></div>"
   ]
  },
  {
   "cell_type": "markdown",
   "metadata": {},
   "source": [
    "### Adding a \"feedback\" (i.e. two-way coupling)\n",
    "\n",
    "We added Mussels to NPZD2, but they are not fully connected yet. \"Food\" is eaten by the mussels but nothing is taken out of the NPZD2 pool.\n",
    "\n",
    "To fully connect the 2 models, we have to add extra terms to our original equations. Below, as an example, is the original Phytoplankton equation and then the new equation with an added term to account for mussel filtration. \n",
    "\n",
    "(original from Fennel et al. 2006)\n",
    "\n",
    "$$ \\frac{\\partial Phy}{\\partial t} = \\mu Phy - gZoo - m_P Phy - \\tau (SDet -Phy)Phy$$\n",
    "\n",
    "(new) $$ \\frac{\\partial Phy}{\\partial t} = \\mu Phy - gZoo - m_P Phy - \\tau (SDet -Phy)Phy - F \\epsilon_P Phy$$\n",
    "\n",
    "<span class=\"note\"></span> I am not showing the new equations for `Zoo`, `LDet`, `SDet`, `NO3`, `NH4`. However you can see them in _Ibarra et al 2014_.\n",
    "\n",
    "To actually code the \"feedback\", we need to add code to:\n",
    "\n",
    "* Ad feaces and Pseudo-faeces to `LDet`\n",
    "* filter `Phy`, `Zoo` and `SDet` out of the water-column\n",
    "* excrete into `NH4`\n",
    "* ...and convert spawning biomass into `Zoo`\n",
    "\n",
    "The new code goes after \"Spawning\" but before \"Update and step\".\n",
    "\n",
    "The new code should look like this:"
   ]
  },
  {
   "cell_type": "code",
   "execution_count": null,
   "metadata": {},
   "outputs": [],
   "source": [
    "                # Spawning\n",
    "        if Gonad[t]/B[t] < par['GT']:\n",
    "            Spawning[t] = 0.\n",
    "            dGonaddt = (A[t]-R[t]) * RE[t]\n",
    "            dSomadt =  (A[t]-R[t]) * (1.-RE[t])\n",
    "        elif Gonad[t]/B[t] >= par['GT']:         \n",
    "            Spawning[t] = Gonad[t]\n",
    "            dGonaddt = 0.\n",
    "            dSomadt = A[t]-R[t]\n",
    "            Zoo[t] =  Zoo[t] + Spawning[t] # <<<<<<<<<<<<<<<<<<<<<<<<<<< NEW LINE !!! <<<<<<<<<<<<<<<\n",
    "        else:\n",
    "            dGonaddt = 0.\n",
    "            dSomadt = 0.   \n",
    "                  \n",
    "    \n",
    "        # <<<<<<<<<<<<<<<<<<<<<<<<<<<<<<<<<<<<<<<<<<<<<<<< NEW SECTION STARTS HERE !!! <<<<<<<<<<<<<<\n",
    "        #Feedback to NPZD2 model\n",
    "        # Faeces and Pseudofaeces\n",
    "        Fae = F[t] * ((par['epsilonP']*(1-par['AE_P'])*Phy[t])+ \\\n",
    "                     (par['epsilonZ']*(1-par['AE_Z'])*Zoo[t])+ \\\n",
    "                     (par['epsilonD']*(1-par['AE_D'])*SDet[t]))\n",
    "        \n",
    "        dLDetdt = dLDetdt + Fae      \n",
    "                  \n",
    "        # Remove eaten Phy, Zoo and SDet from water-column\n",
    "        dPhydt =  dPhydt-(F[t] *par['epsilonP']*Phy[t])\n",
    "        dZoodt =  dZoodt-(F[t] *par['epsilonZ']*Zoo[t])\n",
    "        dSDetdt = dSDetdt -(F[t] *par['epsilonD']*SDet[t])\n",
    "        \n",
    "        # Excretion into Ammonia\n",
    "        dNH4dt = dNH4dt + R[t]    \n",
    "        # <<<<<<<<<<<<<<<<<<<<<<<<<<<<<<<<<<<<<<<<<<<<<<<< NEW SECTION END HERE !!! <<<<<<<<<<<<<<<<<\n",
    "    \n",
    "        # Update and step ----------------------------------------------------\n",
    "        # NPZD2\n",
    "        Phy[t+1]  = Phy[t]  + (dPhydt * dt)\n",
    "        Zoo[t+1]  = Zoo[t]  + (dZoodt * dt)\n",
    "        SDet[t+1] = SDet[t] + (dSDetdt * dt)\n",
    "        LDet[t+1] = LDet[t] + (dLDetdt * dt)\n",
    "        NH4[t+1]  = NH4[t]  + (dNH4dt * dt)\n",
    "        NO3[t+1]  = NO3[t]  + (dNO3dt * dt)"
   ]
  },
  {
   "cell_type": "markdown",
   "metadata": {},
   "source": [
    "<br>\n",
    "<br>\n",
    "**That is it! Congratulations!** You have successfully coupled SHELLE and NPZD2!\n",
    "\n",
    "<span class=\"run\"></span> the model <span class='file'>model_NPZD2_SHELLE.py</span> to do create the plot below:\n",
    "\n",
    "<img src=\"./3.png\">\n"
   ]
  },
  {
   "cell_type": "markdown",
   "metadata": {},
   "source": [
    "<div class=\"Q\"><br>\n",
    "\n",
    "Take a look at the graph above, is \"Total Nitrogen\" (i.e. <b>TotNit</b>) conserved throughout the simulation?\n",
    "\n",
    "<br><br><div class=\"qhelp\"></div></div>"
   ]
  },
  {
   "cell_type": "markdown",
   "metadata": {},
   "source": [
    "<div class=\"Q\"><br>\n",
    "\n",
    "How many times did our mussel spawn during the 3-year simulation?\n",
    "\n",
    "<br><br><div class=\"qhelp\"></div></div>"
   ]
  },
  {
   "cell_type": "markdown",
   "metadata": {},
   "source": [
    "<div class=\"Q\"><br>\n",
    "\n",
    "When did our mussel spawned for the first time?\n",
    "\n",
    "<br><br><div class=\"qhelp\"></div></div>"
   ]
  },
  {
   "cell_type": "markdown",
   "metadata": {},
   "source": [
    "<img src=\"./plot with arrow.png\">\n"
   ]
  },
  {
   "cell_type": "markdown",
   "metadata": {},
   "source": [
    "<div class=\"Q\"><br>\n",
    "\n",
    "In the plot above, take a look at <b>Phy</b> where the red arrow is pointing. What do you think caused the \"small decrease\" in <b>Phy</b>?\n",
    "\n",
    "<br><br><div class=\"qhelp\"></div></div>"
   ]
  },
  {
   "cell_type": "markdown",
   "metadata": {},
   "source": [
    "Lets \"zoom out\" and take a closer look at the model run. The graph below is the same graph as two graphs above...\n",
    "\n",
    "\n",
    "<img src=\"./3.png\">"
   ]
  },
  {
   "cell_type": "markdown",
   "metadata": {},
   "source": [
    "<div class=\"Q\"><br>\n",
    "\n",
    "Take a look at the graph above, does the coupled model appears to be working ok?\n",
    "\n",
    "<br><br><div class=\"qhelp\"></div></div>"
   ]
  },
  {
   "cell_type": "markdown",
   "metadata": {},
   "source": [
    "<div class=\"Q\"><br>\n",
    "\n",
    "<b>...are you sure?</b>\n",
    "<br><br>\n",
    "Hint: This question refers to your answer in the previous question\n",
    "\n",
    "<br><br><div class=\"qhelp\"></div></div>"
   ]
  },
  {
   "cell_type": "markdown",
   "metadata": {},
   "source": [
    "As a rule of thumb, if your model seems to works \"just fine\" on the **2nd try**, there is probably something wrong. Take a few minutes and see if you can find what is wrong.\n",
    "\n",
    "<br>\n",
    "<br>\n",
    "<br>\n",
    "...\n",
    "<br>\n",
    "<br>\n",
    "<br>\n",
    "<br>\n",
    "<br>\n",
    "\n",
    "To be honest with you... I can't tell what is wrong with the plot above. However, the only way to be sure that your model works ok is to conduct \"tests\". One test is to run your new <span class=\"file\">model_NDPZ2_SHELLE.py</span> without mussels and compare its results with the original <span class=\"file\">model_NDPZ2.py</span> model.\n",
    "\n",
    "Copy-paste the code below into <span class='file'>Lab5.py</span>, and <span class='runcell'></span>:"
   ]
  },
  {
   "cell_type": "code",
   "execution_count": null,
   "metadata": {},
   "outputs": [],
   "source": [
    "#%% Run standard NPZD2\n",
    "import model_NPZD2 as model\n",
    "\n",
    "days, dt, par, InitCond = model.load_defaults()\n",
    "output_NPZD2 = model.run(days,dt,InitCond,par)\n",
    "\n",
    "\n",
    "#%% Run NPZD2_SHELLE coupled model\n",
    "import model_NPZD2_SHELLE as model\n",
    "from importlib import reload\n",
    "reload(model)\n",
    "\n",
    "days, dt, par, InitCond = model.load_defaults()\n",
    "InitCond['Soma'] = 0\n",
    "InitCond['Gonad'] = 0\n",
    "output_NPZD2_SHELLE = model.run(days,dt,InitCond,par)\n",
    "\n",
    "#%% Plot\n",
    "import matplotlib.pyplot as plt\n",
    "\n",
    "fig, (ax) = plt.subplots(1,1,figsize=(15, 4))\n",
    "ax.plot(output_NPZD2['time']/365,output_NPZD2['Phy'],'b-', linewidth=4)\n",
    "ax.plot(output_NPZD2_SHELLE['time']/365,output_NPZD2_SHELLE['Phy'],'r-')\n",
    "ax.set_xlabel('Time (years)')\n",
    "ax.set_ylabel('Phy (mmol N m$^{-3}$)')\n",
    "ax.set_title('Phy')\n",
    "plt.legend(['NPZD2 model','NPZD2_SHELLE coupled model'])"
   ]
  },
  {
   "cell_type": "markdown",
   "metadata": {},
   "source": [
    "Above we are plotting Phytoplankton Concentration (i.e. `Phy`). The two models should produce exactly the same result. Therefore, the two lines above (blue and red) should be on top of each other. **There is something wrong**. <span class=\"important\"></span> If you got the previous 2 questions wrong, make sure you go back and change your answer. \n",
    "\n",
    "In practice, you'll continue to \"inspect\" the differences between the two models (remember, there should be no difference) to see if you can figure out where is the problem. To save time, I'll point you straight to a key comparison in this particular case. Let's compare zooplankton.\n",
    "\n",
    "Copy-paste the code below into <span class='file'>Lab5.py</span>, and <span class='runcell'></span>.... or you can also <span class=\"c2c\"></span>"
   ]
  },
  {
   "cell_type": "code",
   "execution_count": null,
   "metadata": {},
   "outputs": [],
   "source": [
    "fig, (ax) = plt.subplots(1,1,figsize=(15, 4))\n",
    "ax.plot(output_NPZD2['time']/365,output_NPZD2['Zoo'],'b-', linewidth=4)\n",
    "ax.plot(output_NPZD2_SHELLE['time']/365,output_NPZD2_SHELLE['Zoo'],'r-')\n",
    "ax.set_xlabel('Time (years)')\n",
    "ax.set_ylabel('Zoo (mmol N m$^{-3}$)')\n",
    "ax.set_title('Zoo')\n",
    "plt.legend(['NPZD2 model','NPZD2_SHELLE coupled model'])"
   ]
  },
  {
   "cell_type": "markdown",
   "metadata": {},
   "source": [
    "As you can see, in the original NPZD2 model zooplankton exhibits a yearly pattern (as expected), while in the coupled NPZD2_SHELLE zooplankton simply decreases exponentially. This hints that there is a problem in the \"zooplankton\" code in <span class='file'>model_NPZD2_SHELLE.py</span>. \n",
    "\n",
    "Take a close look at the \"zooplankton\" code, following what is it doing from top to bottom, and see if you can find the problem. Try not to look at the answer below until after you try on your own to find the problem.\n",
    "\n",
    "\n",
    "\n",
    "<br>\n",
    "<br>\n",
    "<br>\n",
    "...\n",
    "<br>\n",
    "<br>\n",
    "<br>\n",
    "<br>\n",
    "<br>\n",
    "<br>\n",
    "<br>\n",
    "<br>\n",
    "<br>\n",
    "<br>\n",
    "<br>\n",
    "<br>\n",
    "<br>\n",
    "<br>\n",
    "<br>\n",
    "<br>\n",
    "\n",
    "The problem is that a SHELLE parameter over-wrote a NPZD2 parameter. In the `# Parameters` section, first we created the parameter with the following statement `par['beta']  = 0.75`. Then, when copy-pasting, we copy-pasted below a SHELLE parameter with the same name, `par['beta']  = 0.12`. Now, the two models use the same parameter, for SHELLE is no problem, `par['beta']` has the correct value. But for zooplankton, `par['beta']` is 3 times smaller than what it should be. \n",
    "\n",
    "The proper way to solve the issue would be to have separate dictionaries for every model. Therefore calling the parameters, for example, as follows: `par['NPZD2']['beta']`  vs `par['SHELLE']['beta']`. This will ensure that all model parameters will only work for one model. However, we would need to change all our code to implement this change.\n",
    "\n",
    "In the interest of time, here we'll use a \"hack\" that will solve the problem, but will not prevent us from doing further mistakes in future model coupling exercises.\n",
    "\n",
    "In <span class='file'>model_NPZD2_SHELLE.py</span>, in the `# Parameters` section for \"SHELLE\", change the \"key\" of `par['beta']` to `par['betaSHELLE']`, as shown below:"
   ]
  },
  {
   "cell_type": "code",
   "execution_count": null,
   "metadata": {},
   "outputs": [],
   "source": [
    "    # Parameters\n",
    "    par = {}\n",
    "    # NPZD2\n",
    "    par['mu0']   = 0.69  \n",
    "    par['kNO3']  = 0.5    \n",
    "    par['kNH4']  = 0.5  \n",
    "    par['alpha'] = 0.125  \n",
    "    par['gmax']  = 0.6\n",
    "    par['kP']    = 0.44\n",
    "    par['mP']    = 0.15    \n",
    "    par['tau']   = 0.005 \n",
    "    par['thetaMax'] = 0.053\n",
    "    par['beta']  = 0.75 \n",
    "    par['lBM']   = 0.1    \n",
    "    par['lE']    = 0.1\n",
    "    par['mZ']    = 0.25\n",
    "    par['rSD']   = 0.3\n",
    "    par['rLD']   = 0.1 \n",
    "    par['nmax']  = 0.05\n",
    "    par['kI']    = 0.1\n",
    "    par['I0']    = 0.0095\n",
    "    # SHELLE\n",
    "    par['AE_P']    = 0.9  \n",
    "    par['AE_D']    = 0.2    \n",
    "    par['AE_Z']    = 0.3  \n",
    "    par['Bpub']    = 0.43  \n",
    "    par['Fmax_ref'] = 0.025\n",
    "    par['GT']       = 0.44\n",
    "    par['KTempH']   = 0.1    \n",
    "    par['KTempL']   = 0.5 \n",
    "    par['KSaltL']   = 0.25\n",
    "    par['KOxyL']    = 0.02 \n",
    "    par['KFood']    = 1.    \n",
    "    par['KRE']   = 0.86\n",
    "    par['OxyL']  = 17.5\n",
    "    par['Rm']    = 0.002\n",
    "    par['SaltL'] = 10.\n",
    "    par['TempH'] = 25.\n",
    "    par['TempL'] = -4.\n",
    "    par['betaSHELLE']  = 0.12  # <<<<<<<<<<<<<<<<<<<<<<<<< THIS LINE CHANGED !! >>>>>>>>>>>>>>>\n",
    "    par['epsilonP'] = 1.\n",
    "    par['epsilonD'] = 0.5\n",
    "    par['epsilonZ'] = 0.3"
   ]
  },
  {
   "cell_type": "markdown",
   "metadata": {},
   "source": [
    "Now, in <span class='file'>model_NPZD2_SHELLE.py</span> > `# MAIN LOOP` section for \"SHELLE\" > `# Calculate Filtration rate` subsection, change the \"key\" of `par['beta']` to `par['betaSHELLE']`, as shown below:"
   ]
  },
  {
   "cell_type": "code",
   "execution_count": null,
   "metadata": {},
   "outputs": [],
   "source": [
    "        # Calculate Filtration rate\n",
    "        Fmax  = par['Fmax_ref']*(B[t]**(2./3.))\n",
    "                \n",
    "        F[t] = Fmax * L_Temp[t] * L_Salt[t] * L_Oxy[t] * L_Food[t]\n",
    "        \n",
    "        A[t] = F[t] * ((par['epsilonP']*par['AE_P']*Phy[t])+ \\\n",
    "                       (par['epsilonZ']*par['AE_Z']*Zoo[t])+ \\\n",
    "                       (par['epsilonD']*par['AE_D']*SDet[t]))\n",
    "        \n",
    "        R[t] = (par['Rm']*B[t]) + (par['betaSHELLE']*A[t]) # <<<<<<<<<<<<<<<<<<<<<<<<< THIS LINE CHANGED !! >>>>>>>>>>>>>>>\n",
    "        \n",
    "        RE[t] = max(0., (B[t]-par['Bpub'])/(par['KRE'] + B[t] - (2.*par['Bpub'])))\n",
    "        "
   ]
  },
  {
   "cell_type": "markdown",
   "metadata": {},
   "source": [
    "Save <span class='file'>model_NPZD2_SHELLE.py</span>...\n",
    "\n",
    "Copy-paste the code below into <span class='file'>Lab5.py</span>, and <span class='runcell'></span>.... or you can also <span class=\"c2c\"></span>"
   ]
  },
  {
   "cell_type": "code",
   "execution_count": null,
   "metadata": {},
   "outputs": [],
   "source": [
    "#%% Run standard NPZD2\n",
    "import model_NPZD2 as model\n",
    "\n",
    "days, dt, par, InitCond = model.load_defaults()\n",
    "output_NPZD2 = model.run(days,dt,InitCond,par)\n",
    "\n",
    "\n",
    "#%% Run NPZD2_SHELLE coupled model\n",
    "import model_NPZD2_SHELLE as model\n",
    "from importlib import reload\n",
    "reload(model)\n",
    "\n",
    "days, dt, par, InitCond = model.load_defaults()\n",
    "InitCond['Soma'] = 0\n",
    "InitCond['Gonad'] = 0\n",
    "output_NPZD2_SHELLE = model.run(days,dt,InitCond,par)\n",
    "\n",
    "#%% Plot\n",
    "import matplotlib.pyplot as plt\n",
    "\n",
    "fig, (ax) = plt.subplots(1,1,figsize=(15, 4))\n",
    "ax.plot(output_NPZD2['time']/365,output_NPZD2['Zoo'],'b-', linewidth=4)\n",
    "ax.plot(output_NPZD2_SHELLE['time']/365,output_NPZD2_SHELLE['Zoo'],'r-')\n",
    "ax.set_xlabel('Time (years)')\n",
    "ax.set_ylabel('Zoo (mmol N m$^{-3}$)')\n",
    "ax.set_title('Zoo')\n",
    "plt.legend(['NPZD2 model','NPZD2_SHELLE coupled model'])"
   ]
  },
  {
   "cell_type": "markdown",
   "metadata": {},
   "source": [
    "**Yes! Now it Works!**\n",
    "\n",
    "The two models produce the same `Zoo` results.\n",
    "\n",
    "As a rule of thumb, if your model seems to works \"ok\" on the **3rd try**, there is small probably your model is actually working. \n",
    "\n",
    "Now lets run <span class='file'>model_NPZD2_SHELLE.py</span>...\n",
    "\n",
    "You can copy-paste the code below into <span class='file'>Lab5.py</span>, and <span class='runcell'></span>.... or you can also <span class=\"c2c\"></span>"
   ]
  },
  {
   "cell_type": "code",
   "execution_count": null,
   "metadata": {},
   "outputs": [],
   "source": [
    "#%% Run standard SHELLE\n",
    "import model_NPZD2_SHELLE as model\n",
    "from importlib import reload\n",
    "reload(model)\n",
    "\n",
    "days, dt, par, InitCond = model.load_defaults()\n",
    "output = model.run(days,dt,InitCond,par)\n",
    "model.plot(output)"
   ]
  },
  {
   "cell_type": "markdown",
   "metadata": {},
   "source": [
    "As you can see, this time `Zoo` raises up to about  1.5 $mmol N^{-3}$. Also `TotNit` is conserved. However there are some subtle differences when compared to the model run where zooplankton vanished to zero (i.e. run where we over-wrote `par['beta']`)."
   ]
  },
  {
   "cell_type": "markdown",
   "metadata": {},
   "source": [
    "<div class=\"Q\"><br>\n",
    "\n",
    "How many times did our mussel spawn during the 3-year simulation?\n",
    "\n",
    "<br><br><div class=\"qhelp\"></div></div>"
   ]
  },
  {
   "cell_type": "markdown",
   "metadata": {},
   "source": [
    "<div class=\"Q\"><br>\n",
    "\n",
    "Is the answer above the same as the number of spawnings in the model run were we had the wrong <b>par['beta']</b>?\n",
    "\n",
    "<br><br><div class=\"qhelp\"></div></div>"
   ]
  },
  {
   "cell_type": "markdown",
   "metadata": {},
   "source": [
    "<div class=\"Q\"><br>\n",
    "\n",
    "When did our mussel spawned for the first time?\n",
    "\n",
    "<br><br><div class=\"qhelp\"></div></div>"
   ]
  },
  {
   "cell_type": "markdown",
   "metadata": {},
   "source": [
    "<div class=\"Q\"><br>\n",
    "\n",
    "Is the answer above the same as the \"time of first spawn\" in the model run were we had the wrong <b>par['beta']</b>?\n",
    "\n",
    "<br><br><div class=\"qhelp\"></div></div>"
   ]
  },
  {
   "cell_type": "markdown",
   "metadata": {},
   "source": [
    "<div class=\"Q\"><br>\n",
    "\n",
    "Why?\n",
    "\n",
    "<br><br><div class=\"qhelp\"></div></div>"
   ]
  },
  {
   "cell_type": "markdown",
   "metadata": {},
   "source": [
    "Now that our NPZD2_SHELLE model works, lets compare the `Phy` output of the NPZD2 model (without mussel) against our new NPZD2_SHELLE model (with mussel).\n",
    "\n",
    "You can copy-paste the code below into <span class='file'>Lab5.py</span>, and <span class='runcell'></span>.... or you can also <span class=\"c2c\"></span>"
   ]
  },
  {
   "cell_type": "code",
   "execution_count": null,
   "metadata": {},
   "outputs": [],
   "source": [
    "#%% Run standard NPZD2\n",
    "import model_NPZD2 as model\n",
    "\n",
    "days, dt, par, InitCond = model.load_defaults()\n",
    "output_NPZD2 = model.run(days,dt,InitCond,par)\n",
    "\n",
    "\n",
    "#%% Run NPZD2_SHELLE coupled model\n",
    "import model_NPZD2_SHELLE as model\n",
    "from importlib import reload\n",
    "reload(model)\n",
    "\n",
    "days, dt, par, InitCond = model.load_defaults()\n",
    "output_NPZD2_SHELLE = model.run(days,dt,InitCond,par)\n",
    "\n",
    "#%% Plot\n",
    "import matplotlib.pyplot as plt\n",
    "\n",
    "fig, (ax) = plt.subplots(1,1,figsize=(15, 4))\n",
    "ax.plot(output_NPZD2['time']/365,output_NPZD2['Phy'],'b-')\n",
    "ax.plot(output_NPZD2_SHELLE['time']/365,output_NPZD2_SHELLE['Phy'],'r-')\n",
    "ax.set_xlabel('Time (years)')\n",
    "ax.set_ylabel('Phy (mmol N m$^{-3}$)')\n",
    "ax.set_title('Phy')\n",
    "plt.legend(['NPZD2 model','NPZD2_SHELLE coupled model'])"
   ]
  },
  {
   "cell_type": "markdown",
   "metadata": {},
   "source": [
    "As you can see, `Phy` in the two runs is similar, but it seems that `Phy` in the model WITH a mussel is lower."
   ]
  },
  {
   "cell_type": "markdown",
   "metadata": {},
   "source": [
    "<div class=\"Q\"><br>\n",
    "\n",
    "Why is <b>Phy</b> lower in the run WITH a mussel?\n",
    "\n",
    "<br><br><div class=\"qhelp\"></div></div>"
   ]
  },
  {
   "cell_type": "markdown",
   "metadata": {},
   "source": [
    "Note that not all the time is `Phy` in NPDZ_SHELLE **lower** than `Phy` in NPDZ. To see this better, lets plot the DIFFERENCE. Lets plot `Phy` from NPDZ2 **MINUS** `Phy` from NPZD2_SHELLE:\n",
    "\n",
    "You can copy-paste the code below into <span class='file'>Lab5.py</span>, and <span class='runcell'></span>.... or you can also <span class=\"c2c\"></span>"
   ]
  },
  {
   "cell_type": "code",
   "execution_count": null,
   "metadata": {},
   "outputs": [],
   "source": [
    "import numpy as np\n",
    "fig, (ax) = plt.subplots(1,1,figsize=(15, 4))\n",
    "ax.plot(output_NPZD2['time']/365, np.zeros((len(output_NPZD2['time']),),float),'k-')\n",
    "ax.plot(output_NPZD2['time']/365,(output_NPZD2['Phy']-output_NPZD2_SHELLE['Phy']),'b-')\n",
    "ax.set_xlabel('Time (years)')\n",
    "ax.set_ylabel('Phy (mmol N m$^{-3}$)')\n",
    "ax.set_title('Phy_NPZD2 MINUS Phy_NPZD2_SHELLE')"
   ]
  },
  {
   "cell_type": "markdown",
   "metadata": {},
   "source": [
    "Can you see that there are some times that \"Phy_NPZD2 MINUS Phy_NPZD2_SHELLE\" is negative (i.e. sometimes `Phy` with mussel is greater `Phy` without)?"
   ]
  },
  {
   "cell_type": "markdown",
   "metadata": {},
   "source": [
    "<div class=\"Q\"><br>\n",
    "\n",
    "Why do think <b>Phy</b> WITH a mussel is sometimes greater than <b>Phy</b> WITHOUT?\n",
    "\n",
    "<br><br><div class=\"qhelp\"></div></div>"
   ]
  },
  {
   "cell_type": "markdown",
   "metadata": {},
   "source": [
    "Click the following link to see the final <span class=\"file\">model_NPZD2_SHELLE.py</span> file: https://raw.githubusercontent.com/Diego-Ibarra/aquaculture-modelling/master/Week5/model_NPZD2_SHELLE.py"
   ]
  },
  {
   "cell_type": "markdown",
   "metadata": {},
   "source": [
    "_Please beware that this model was designed as a teaching tool and may not be adequate to represent realistic applications_.\n",
    "\n",
    "# **This is the end of lab**\n",
    "\n",
    "*******************\n",
    "*******************\n",
    "\n",
    "Code below is for formatting of this lab. Do not alter!"
   ]
  },
  {
   "cell_type": "code",
   "execution_count": null,
   "metadata": {},
   "outputs": [],
   "source": [
    "# Loads css file and applies it to lab HTML\n",
    "from IPython.core.display import HTML\n",
    "def css():\n",
    "    style = open(\"../css/custom.css\", \"r\").read()\n",
    "    return HTML(style)\n",
    "css()"
   ]
  },
  {
   "cell_type": "code",
   "execution_count": null,
   "metadata": {},
   "outputs": [],
   "source": []
  }
 ],
 "metadata": {
  "anaconda-cloud": {},
  "kernelspec": {
   "display_name": "Python 3",
   "language": "python",
   "name": "python3"
  },
  "language_info": {
   "codemirror_mode": {
    "name": "ipython",
    "version": 3
   },
   "file_extension": ".py",
   "mimetype": "text/x-python",
   "name": "python",
   "nbconvert_exporter": "python",
   "pygments_lexer": "ipython3",
   "version": "3.7.4"
  }
 },
 "nbformat": 4,
 "nbformat_minor": 1
}
