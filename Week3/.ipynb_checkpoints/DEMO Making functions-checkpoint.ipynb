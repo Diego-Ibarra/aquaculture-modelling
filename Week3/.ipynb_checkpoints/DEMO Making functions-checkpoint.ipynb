{
 "cells": [
  {
   "cell_type": "markdown",
   "metadata": {},
   "source": [
    "## How to make functions and work with them\n",
    "\n",
    "In **Spyder**, make 2 new empty files and save them with the names <span class='file'>my_module.py</span> and <span class='file'>experiment_test.py</span>\n",
    "\n",
    "<div class=\"important\"></div> Make sure your \"module\" file and the \"experiment\" file are in THE SAME directory\n",
    "\n",
    "Copy-paste the following in <span class='file'>my_module.py</span>, then save the file:"
   ]
  },
  {
   "cell_type": "code",
   "execution_count": 24,
   "metadata": {
    "collapsed": true
   },
   "outputs": [],
   "source": [
    "def my_function():\n",
    "\n",
    "    print(\"This is just a test!\")\n",
    "    \n",
    "    return"
   ]
  },
  {
   "cell_type": "markdown",
   "metadata": {},
   "source": [
    "Then, copy-paste the following into <span class='file'>experiment_test.py</span> and click <span class='run'></span>"
   ]
  },
  {
   "cell_type": "code",
   "execution_count": 1,
   "metadata": {
    "collapsed": false
   },
   "outputs": [
    {
     "name": "stdout",
     "output_type": "stream",
     "text": [
      "This is just a test!!\n"
     ]
    }
   ],
   "source": [
    "import my_module as mm\n",
    "\n",
    "mm.my_function()"
   ]
  },
  {
   "cell_type": "markdown",
   "metadata": {},
   "source": [
    "As you can see, when you ran <span class='file'>experiment_test.py</span>, it went and loaded the `my_module` module (and nicknamed it `mm`), then it executed the function `my_function`... which in turn printed \"This is just a test!\" to the console's screen. Congratulations, you just wrote your first Python module!\n",
    "\n",
    "\n",
    "Lets add another function. Copy-paste the following (overwriting its contents) to <span class='file'>my_module.py</span>... and click **Save**. Now we have 2 functions."
   ]
  },
  {
   "cell_type": "code",
   "execution_count": 26,
   "metadata": {
    "collapsed": true
   },
   "outputs": [],
   "source": [
    "def my_function():\n",
    "\n",
    "    print(\"This is just a test!\")\n",
    "    \n",
    "    return\n",
    "\n",
    "\n",
    "def my_name(name):\n",
    "\n",
    "    print(\"My name is \" + name)\n",
    "    \n",
    "    return"
   ]
  },
  {
   "cell_type": "markdown",
   "metadata": {},
   "source": [
    "Copy-paste the following (overwriting its contents) to <span class='file'>experiment_test.py</span>, the click <span class='run'></span>"
   ]
  },
  {
   "cell_type": "code",
   "execution_count": 2,
   "metadata": {
    "collapsed": false
   },
   "outputs": [
    {
     "name": "stdout",
     "output_type": "stream",
     "text": [
      "This is just a test!!\n",
      "My name is John Smith\n"
     ]
    }
   ],
   "source": [
    "import my_module as mm\n",
    "\n",
    "mm.my_function()\n",
    "\n",
    "mm.my_name('John Smith')"
   ]
  },
  {
   "cell_type": "markdown",
   "metadata": {},
   "source": [
    "In addition to what you did before, you also called the function `mm.my_name` with the input `'John Smith'` and as a result you got the following output printed to the console: `My name is John Smith`\n",
    "\n",
    "One more. Change the input name to `'Frida'` and click <span class='run'></span>"
   ]
  },
  {
   "cell_type": "code",
   "execution_count": 4,
   "metadata": {
    "collapsed": false
   },
   "outputs": [
    {
     "name": "stdout",
     "output_type": "stream",
     "text": [
      "This is just a test!!\n",
      "My name is Frida\n"
     ]
    }
   ],
   "source": [
    "import my_module as mm\n",
    "\n",
    "mm.my_function()\n",
    "\n",
    "mm.my_name('Frida')"
   ]
  },
  {
   "cell_type": "markdown",
   "metadata": {},
   "source": [
    "## Developing modules ( if __name__ == '__main__' )\n",
    "\n",
    "When developing modules it is annoying to have write code in one file, and then have run a different file to run and test your module code. However, there is the `if __name__ == '__main__'` trick, which allows you to have some code that will only be executed if you **RUN** the \"module\" file, and it will not be executed if the module files is called (i.e. imported) by another file. \n",
    "\n",
    "Copy-paste the following (overwriting its contents) to <span class='file'>my_module.py</span>... and click Save."
   ]
  },
  {
   "cell_type": "code",
   "execution_count": 5,
   "metadata": {
    "collapsed": false
   },
   "outputs": [
    {
     "name": "stdout",
     "output_type": "stream",
     "text": [
      "********************************\n",
      "You are running my_module.py\n",
      "-------------------------------\n",
      "This is just a test!\n",
      "My name is Batman\n",
      "********************************\n"
     ]
    }
   ],
   "source": [
    "def my_function():\n",
    "\n",
    "    print(\"This is just a test!\")\n",
    "    \n",
    "    return\n",
    "\n",
    "\n",
    "def my_name(name):\n",
    "\n",
    "    print(\"My name is \" + name)\n",
    "    \n",
    "    return\n",
    "    \n",
    "if __name__ == \"__main__\":\n",
    "    # Testing code\n",
    "    # This will only be executed if you \"RUN\" this file \n",
    "    print('********************************')\n",
    "    print('You are running my_module.py')\n",
    "    print('-------------------------------')\n",
    "    my_function()\n",
    "    my_name('Batman')\n",
    "    print('********************************')"
   ]
  },
  {
   "cell_type": "markdown",
   "metadata": {},
   "source": [
    "<span class='important'></span> If you don't place your code inside the `if __name__ == \"__main__\":` statement, it will be executed when another file \"imports\" the `my_module` module. "
   ]
  },
  {
   "cell_type": "markdown",
   "metadata": {},
   "source": [
    "\n",
    "# **This is the end of the DEMO**\n",
    "\n",
    "*******************\n",
    "*******************\n",
    "\n",
    "Code below is for formatting of this lab. Do not alter!"
   ]
  },
  {
   "cell_type": "code",
   "execution_count": 3,
   "metadata": {
    "collapsed": false
   },
   "outputs": [
    {
     "data": {
      "text/html": [
       "<style>\n",
       "\n",
       "body {\n",
       "  counter-reset: question_num;                     /* Set a counter named 'section', and it`s initial value is 0. */\n",
       "}\n",
       "\n",
       "/* Question Box */\n",
       ".Q {\n",
       "    background-color:#ff9900;\n",
       "    color:black;\n",
       "    font-size:17px;\n",
       "    width:100%;\n",
       "    border:1px solid #666666;\n",
       "    padding:5px;\n",
       "}\n",
       "\n",
       ".Q::before {\n",
       "    counter-increment: question_num;\n",
       "    content: \"QUESTION \" counter(question_num) '\\A';\n",
       "    white-space: pre;\n",
       "}\n",
       "\n",
       ".qhelp {\n",
       "    color:#666666;\n",
       "    font-size:15px\n",
       "}\n",
       "\n",
       ".qhelp::after {\n",
       "    content: \"Answer this question in the corresponding Brightspace LAB quiz\"\n",
       "}\n",
       "\n",
       "\n",
       "\n",
       "/* code */\n",
       ".rendered_html pre, .rendered_html code {\n",
       "    font-family: \"SF Mono\",\"Segoe UI Mono\",\"Roboto Mono\",\"Ubuntu Mono\",Menlo,Courier,monospace;\n",
       "    padding: 1px 3px;\n",
       "    border: 1px solid #ccc;\n",
       "    border-radius: 3px;\n",
       "    background: #f5f5f5;\n",
       "    font-size: 12px;\n",
       "    line-height: 1.4;\n",
       "    color: #0052CC;\n",
       "}\n",
       "\n",
       "\n",
       "/* Copy to CONSOLE */\n",
       ".c2c {\n",
       "    background-color:#d2d2d2;\n",
       "    color:#ff8080;\n",
       "    font-size:13px;\n",
       "    border:1px solid #bfbfbf;\n",
       "    padding:1px 3px;\n",
       "    border-radius: 3px;\n",
       "    margin-top: 10px;\n",
       "    display: inline-block;\n",
       "}\n",
       "\n",
       ".c2c::before {\n",
       "    content: \"Copy-paste into Spyder's Console\";\n",
       "}\n",
       "\n",
       "\n",
       "/* RUN */\n",
       ".run {\n",
       "    background-color:#d2d2d2;\n",
       "    color:#00b300;\n",
       "    font-size: 12px;\n",
       "    line-height: 1.4;\n",
       "    font-weight: bold;\n",
       "    border:1px solid #bfbfbf;\n",
       "    padding-top:0px;\n",
       "    padding-bottom:0px;\n",
       "    padding-left:3px;\n",
       "    padding-right:3px;\n",
       "    border-radius: 3px;\n",
       "    display: inline-block;\n",
       "}\n",
       ".run::before {\n",
       "    content: \"\\25B6\" \"RUN\";\n",
       "}\n",
       "\n",
       "/* FILE */\n",
       ".file {\n",
       "    color:#b36b00;\n",
       "    font-size: 12px;\n",
       "    line-height: 1.4;\n",
       "    font-weight: bold;\n",
       "    border:1px solid #bfbfbf;\n",
       "    padding-top:0px;\n",
       "    padding-bottom:0px;\n",
       "    padding-left:3px;\n",
       "    padding-right:3px;\n",
       "    border-radius: 3px;\n",
       "    display: inline-block;\n",
       "}\n",
       "\n",
       "/* important */\n",
       ".important {\n",
       "    background-color:#ff4d4d;\n",
       "    color:black;\n",
       "    font-size: 13px;\n",
       "    line-height: 1.4;\n",
       "    font-weight: bold;\n",
       "    border:1px solid #bfbfbf;\n",
       "    padding-top:0px;\n",
       "    padding-bottom:0px;\n",
       "    padding-left:3px;\n",
       "    padding-right:3px;\n",
       "    border-radius: 3px;\n",
       "    display: inline-block;\n",
       "    margin-top:5px;\n",
       "}\n",
       ".important::before {\n",
       "    content: \"Important:\";\n",
       "}\n",
       "</style>"
      ],
      "text/plain": [
       "<IPython.core.display.HTML object>"
      ]
     },
     "execution_count": 3,
     "metadata": {},
     "output_type": "execute_result"
    }
   ],
   "source": [
    "# Loads css file and applies it to lab HTML\n",
    "from IPython.core.display import HTML\n",
    "def css():\n",
    "    style = open(\"../css/custom.css\", \"r\").read()\n",
    "    return HTML(style)\n",
    "css()"
   ]
  },
  {
   "cell_type": "code",
   "execution_count": null,
   "metadata": {
    "collapsed": true
   },
   "outputs": [],
   "source": []
  }
 ],
 "metadata": {
  "kernelspec": {
   "display_name": "Python [Root]",
   "language": "python",
   "name": "Python [Root]"
  },
  "language_info": {
   "codemirror_mode": {
    "name": "ipython",
    "version": 2
   },
   "file_extension": ".py",
   "mimetype": "text/x-python",
   "name": "python",
   "nbconvert_exporter": "python",
   "pygments_lexer": "ipython2",
   "version": "2.7.12"
  }
 },
 "nbformat": 4,
 "nbformat_minor": 2
}
