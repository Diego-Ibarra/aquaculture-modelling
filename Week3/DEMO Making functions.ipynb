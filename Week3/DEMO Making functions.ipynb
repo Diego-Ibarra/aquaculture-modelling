{
 "cells": [
  {
   "cell_type": "markdown",
   "metadata": {},
   "source": [
    "## How to make functions and work with them\n",
    "\n",
    "In **Spyder**, make 2 new empty files and save them with the names <span class='file'>my_module.py</span> and <span class='file'>experiment_test.py</span>\n",
    "\n",
    "<div class=\"important\"></div> Make sure your \"module\" file and the \"experiment\" file are in THE SAME directory\n",
    "\n",
    "Copy-paste the following in <span class='file'>my_module.py</span>, then save the file:"
   ]
  },
  {
   "cell_type": "code",
   "execution_count": 11,
   "metadata": {},
   "outputs": [],
   "source": [
    "def my_function():\n",
    "\n",
    "    print(\"This is just a test!\")\n",
    "    \n",
    "    return"
   ]
  },
  {
   "cell_type": "markdown",
   "metadata": {},
   "source": [
    "Then, copy-paste the following into <span class='file'>experiment_test.py</span> and click <span class='run'></span>"
   ]
  },
  {
   "cell_type": "code",
   "execution_count": 16,
   "metadata": {},
   "outputs": [
    {
     "name": "stdout",
     "output_type": "stream",
     "text": [
      "This is just a test!\n"
     ]
    }
   ],
   "source": [
    "import my_module as mm\n",
    "\n",
    "mm.my_function()"
   ]
  },
  {
   "cell_type": "markdown",
   "metadata": {},
   "source": [
    "As you can see, when you ran <span class='file'>experiment_test.py</span>, it went and loaded the `my_module` module (and nicknamed it `mm`), then it executed the function `my_function`... which in turn printed \"This is just a test!\" to the console's screen. Congratulations, you just wrote your first Python module!\n",
    "\n",
    "\n",
    "Lets add another function. Copy-paste the following (overwriting its contents) to <span class='file'>my_module.py</span>... and click **Save**. Now we have 2 functions."
   ]
  },
  {
   "cell_type": "code",
   "execution_count": 13,
   "metadata": {},
   "outputs": [],
   "source": [
    "def my_function():\n",
    "\n",
    "    print(\"This is just a test!\")\n",
    "    \n",
    "    return\n",
    "\n",
    "\n",
    "def my_name(name):\n",
    "\n",
    "    print(\"My name is \" + name)\n",
    "    \n",
    "    return"
   ]
  },
  {
   "cell_type": "markdown",
   "metadata": {},
   "source": [
    "Copy-paste the following (overwriting its contents) to <span class='file'>experiment_test.py</span>, the click <span class='run'></span>"
   ]
  },
  {
   "cell_type": "code",
   "execution_count": 20,
   "metadata": {},
   "outputs": [
    {
     "name": "stdout",
     "output_type": "stream",
     "text": [
      "This is just a test!\n",
      "My name is John Smith\n"
     ]
    }
   ],
   "source": [
    "import my_module as mm\n",
    "import importlib\n",
    "importlib.reload(mm)\n",
    "\n",
    "mm.my_function()\n",
    "\n",
    "mm.my_name('John Smith')"
   ]
  },
  {
   "cell_type": "markdown",
   "metadata": {},
   "source": [
    "In addition to what you did before, you also called the function `mm.my_name` with the input `'John Smith'` and as a result you got the following output printed to the console: `My name is John Smith`\n",
    "\n",
    "One more. Change the input name to `'Frida'` and click <span class='run'></span>"
   ]
  },
  {
   "cell_type": "code",
   "execution_count": 21,
   "metadata": {},
   "outputs": [
    {
     "name": "stdout",
     "output_type": "stream",
     "text": [
      "This is just a test!\n",
      "My name is Frida\n"
     ]
    }
   ],
   "source": [
    "import my_module as mm\n",
    "\n",
    "mm.my_function()\n",
    "\n",
    "mm.my_name('Frida')"
   ]
  },
  {
   "cell_type": "markdown",
   "metadata": {},
   "source": [
    "## Developing modules ( if __name__ == '__main__' )\n",
    "\n",
    "When developing modules it is annoying to have write code in one file, and then have run a different file to run and test your module code. However, there is the `if __name__ == '__main__'` trick, which allows you to have some code that will only be executed if you **RUN** the \"module\" file, and it will not be executed if the module files is called (i.e. imported) by another file. \n",
    "\n",
    "Copy-paste the following (overwriting its contents) to <span class='file'>my_module.py</span>... and click Save."
   ]
  },
  {
   "cell_type": "code",
   "execution_count": null,
   "metadata": {},
   "outputs": [],
   "source": [
    "def my_function():\n",
    "\n",
    "    print(\"This is just a test!\")\n",
    "    \n",
    "    return\n",
    "\n",
    "\n",
    "def my_name(name):\n",
    "\n",
    "    print(\"My name is \" + name)\n",
    "    \n",
    "    return\n",
    "    \n",
    "if __name__ == \"__main__\":\n",
    "    # Testing code\n",
    "    # This will only be executed if you \"RUN\" this file \n",
    "    print('********************************')\n",
    "    print('You are running my_module.py')\n",
    "    print('-------------------------------')\n",
    "    my_function()\n",
    "    my_name('Batman')\n",
    "    print('********************************')"
   ]
  },
  {
   "cell_type": "markdown",
   "metadata": {},
   "source": [
    "<span class='important'></span> If you don't place your code inside the `if __name__ == \"__main__\":` statement, it will be executed when another file \"imports\" the `my_module` module. "
   ]
  },
  {
   "cell_type": "markdown",
   "metadata": {},
   "source": [
    "\n",
    "# **This is the end of the DEMO**\n",
    "\n",
    "*******************\n",
    "*******************\n",
    "\n",
    "Code below is for formatting of this lab. Do not alter!"
   ]
  },
  {
   "cell_type": "code",
   "execution_count": null,
   "metadata": {},
   "outputs": [],
   "source": [
    "# Loads css file and applies it to lab HTML\n",
    "from IPython.core.display import HTML\n",
    "def css():\n",
    "    style = open(\"../css/custom.css\", \"r\").read()\n",
    "    return HTML(style)\n",
    "css()"
   ]
  },
  {
   "cell_type": "code",
   "execution_count": null,
   "metadata": {},
   "outputs": [],
   "source": []
  }
 ],
 "metadata": {
  "kernelspec": {
   "display_name": "Python 3",
   "language": "python",
   "name": "python3"
  },
  "language_info": {
   "codemirror_mode": {
    "name": "ipython",
    "version": 3
   },
   "file_extension": ".py",
   "mimetype": "text/x-python",
   "name": "python",
   "nbconvert_exporter": "python",
   "pygments_lexer": "ipython3",
   "version": "3.7.4"
  }
 },
 "nbformat": 4,
 "nbformat_minor": 2
}
